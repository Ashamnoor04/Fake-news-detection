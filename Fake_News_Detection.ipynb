{
 "cells": [
  {
   "cell_type": "code",
   "execution_count": 1,
   "id": "cd60bcdf-4b10-4088-8fb7-2b72c6f9766e",
   "metadata": {},
   "outputs": [],
   "source": [
    "import pandas as pd\n",
    "import numpy as np\n",
    "import matplotlib.pyplot as plt\n",
    "import seaborn as sns\n",
    "from sklearn.model_selection import train_test_split\n",
    "from sklearn.feature_extraction.text import TfidfVectorizer\n",
    "from sklearn.linear_model import PassiveAggressiveClassifier\n",
    "from sklearn.metrics import accuracy_score, confusion_matrix\n",
    "import nltk\n",
    "import re"
   ]
  },
  {
   "cell_type": "code",
   "execution_count": 20,
   "id": "73d038d7-4127-4a1c-a04f-08cc568784aa",
   "metadata": {},
   "outputs": [],
   "source": [
    "df_fake=pd.read_csv('Fake.csv')\n",
    "df_real=pd.read_csv('True.csv')\n",
    "\n",
    "df_fake['label']=0\n",
    "df_real['label']=1\n",
    "\n",
    "df=pd.concat([df_fake,df_real], axis=0)\n",
    "df=df.sample(frac=1).reset_index(drop=True)\n",
    "df=df[['title','text','label']]"
   ]
  },
  {
   "cell_type": "code",
   "execution_count": 21,
   "id": "b58d4480-dc40-4e7d-8368-476619f63927",
   "metadata": {},
   "outputs": [],
   "source": [
    "def clean_text(text):\n",
    "    text=text.lower()\n",
    "    text=re.sub(r'\\[.*?\\]','',text)\n",
    "    text = re.sub(r'http\\S+', '', text)\n",
    "    text = re.sub(r'[^a-zA-Z]', ' ', text)\n",
    "    return text\n",
    "\n",
    "\n",
    "df['text']=df['text'].apply(clean_text)"
   ]
  },
  {
   "cell_type": "code",
   "execution_count": 22,
   "id": "58f7b841-ba8f-43f1-a82b-b2f5b0057934",
   "metadata": {},
   "outputs": [
    {
     "name": "stdout",
     "output_type": "stream",
     "text": [
      "label\n",
      "0    23481\n",
      "1    21417\n",
      "Name: count, dtype: int64\n"
     ]
    }
   ],
   "source": [
    "x=df['text']\n",
    "y=df['label']\n",
    "print(df['label'].value_counts())\n",
    "\n",
    "x_train,x_test,y_train,y_test=train_test_split(x,y,test_size=0.2,random_state=42)\n"
   ]
  },
  {
   "cell_type": "code",
   "execution_count": 23,
   "id": "89ce2c98-2fb8-42d1-ab0e-facef7a08ce7",
   "metadata": {},
   "outputs": [],
   "source": [
    "vectorizer = TfidfVectorizer(stop_words='english', max_df=0.7)\n",
    "tfidf_train = vectorizer.fit_transform(x_train)\n",
    "tfidf_test = vectorizer.transform(x_test)\n"
   ]
  },
  {
   "cell_type": "markdown",
   "id": "306ee285-e766-4803-b3b4-7012545884a6",
   "metadata": {},
   "source": [
    "model=PassiveAggressiveClassifier(max_iter=1000)\n",
    "model.fit(tfidf_train,y_train)"
   ]
  },
  {
   "cell_type": "code",
   "execution_count": 26,
   "id": "8928c781-b768-4932-ab5d-386d1e6dae33",
   "metadata": {},
   "outputs": [
    {
     "name": "stdout",
     "output_type": "stream",
     "text": [
      "Accuracy:  0.9944320712694877\n"
     ]
    },
    {
     "data": {
      "image/png": "[encoded data removed]",
      "text/plain": [
       "<Figure size 640x480 with 2 Axes>"
      ]
     },
     "metadata": {},
     "output_type": "display_data"
    }
   ],
   "source": [
    "model = PassiveAggressiveClassifier(max_iter=1000)\n",
    "model.fit(tfidf_train, y_train)\n",
    "\n",
    "\n",
    "\n",
    "y_pred=model.predict(tfidf_test)\n",
    "score=accuracy_score(y_test,y_pred)\n",
    "print(\"Accuracy: \",score)\n",
    "\n",
    "cm = confusion_matrix(y_test, y_pred)\n",
    "sns.heatmap(cm, annot=True, fmt='d', cmap='Blues')\n",
    "plt.xlabel(\"Predicted\")\n",
    "plt.ylabel(\"Actual\")\n",
    "plt.show()"
   ]
  },
  {
   "cell_type": "code",
   "execution_count": 27,
   "id": "9f9a9e9d-64ba-4e9f-8a93-7e29ae906f30",
   "metadata": {},
   "outputs": [
    {
     "data": {
      "text/plain": [
       "'Fake'"
      ]
     },
     "execution_count": 27,
     "metadata": {},
     "output_type": "execute_result"
    }
   ],
   "source": [
    "def predict_news(news):\n",
    "    news = clean_text(news)\n",
    "    vectorized_news = vectorizer.transform([news])\n",
    "    pred = model.predict(vectorized_news)\n",
    "    return \"Real\" if pred[0] == 1 else \"Fake\"\n",
    "\n",
    "# Test\n",
    "predict_news(\"Breaking news: Scientists discover a new planet in our solar system.\")\n"
   ]
  },
  {
   "cell_type": "code",
   "execution_count": null,
   "id": "d7c1c1a6-1fbb-4bd2-a915-45554184005d",
   "metadata": {},
   "outputs": [],
   "source": []
  }
 ],
 "metadata": {
  "kernelspec": {
   "display_name": "Python 3 (ipykernel)",
   "language": "python",
   "name": "python3"
  },
  "language_info": {
   "codemirror_mode": {
    "name": "ipython",
    "version": 3
   },
   "file_extension": ".py",
   "mimetype": "text/x-python",
   "name": "python",
   "nbconvert_exporter": "python",
   "pygments_lexer": "ipython3",
   "version": "3.9.6"
  }
 },
 "nbformat": 4,
 "nbformat_minor": 5
}
